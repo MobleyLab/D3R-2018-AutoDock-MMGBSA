{
 "cells": [
  {
   "cell_type": "code",
   "execution_count": null,
   "metadata": {
    "collapsed": true
   },
   "outputs": [],
   "source": [
    "#Clean the pdb structure of the reference protein structure; verify the protein oligomerization state.\n",
    "#PDBFIXER to delete all heterogens atoms and add the missing atoms but not the missing residues;\n",
    "#do not fix the protonation states at this level."
   ]
  },
  {
   "cell_type": "code",
   "execution_count": 5,
   "metadata": {
    "collapsed": true
   },
   "outputs": [],
   "source": [
    "#Some of the Bace-1 protein structures start their residue numbering with a negative number;\n",
    "#Add the following step to renumber the residues.\n",
    "\n",
    "# pdb4amber 4k9h_pdbfixer.pdb -o 4k9h_pdb4.pdb"
   ]
  },
  {
   "cell_type": "code",
   "execution_count": null,
   "metadata": {
    "collapsed": true
   },
   "outputs": [],
   "source": [
    "# use \"http://nbcr-222.ucsd.edu/pdb2pqr_2.0.0/\" to have a pqr structure with correct protonation states\n",
    "#and following the AMBER naming scheme."
   ]
  },
  {
   "cell_type": "code",
   "execution_count": 3,
   "metadata": {
    "collapsed": true
   },
   "outputs": [],
   "source": [
    "import parmed as pmd\n",
    "pqr = pmd.load_file('3dv5.pqr')\n",
    "pqr.save('3dv5_pmd.pdb')"
   ]
  },
  {
   "cell_type": "code",
   "execution_count": 4,
   "metadata": {},
   "outputs": [
    {
     "data": {
      "text/plain": [
       "0"
      ]
     },
     "execution_count": 4,
     "metadata": {},
     "output_type": "execute_result"
    }
   ],
   "source": [
    "from openeye.oechem import*\n",
    "from openeye.oeomega import*\n",
    "from openeye.oeiupac import*\n",
    "from openeye.oeshape import*\n",
    "#Read your molecule with OEReader\n",
    "istream = oemolistream('3dv5_pmd.pdb')\n",
    "mol_from_file = OEMol()\n",
    "OEReadMolecule(istream, mol_from_file)\n",
    "oechem.OEAddExplicitHydrogens(OEMol())\n",
    "oechem.OEDetermineConnectivity(OEMol())\n",
    "oechem.OEPerceiveBondOrders(OEMol())\n",
    "ostream = oemolostream('3dv5_oe.pdb')\n",
    "OEWriteMolecule(ostream, mol_from_file)"
   ]
  },
  {
   "cell_type": "code",
   "execution_count": 1,
   "metadata": {},
   "outputs": [
    {
     "data": {
      "text/plain": [
       "0"
      ]
     },
     "execution_count": 1,
     "metadata": {},
     "output_type": "execute_result"
    }
   ],
   "source": [
    "#Prepare the reference ligand as a mol2 file starting from the pdb structure of the reference protein complexed \n",
    "#to this ligand.\n",
    "from openeye.oechem import*\n",
    "from openeye.oeomega import*\n",
    "from openeye.oeiupac import*\n",
    "from openeye.oeshape import*\n",
    "istream = oemolistream('3s2o-reference-ligand.pdb')\n",
    "mol_from_file = OEMol()\n",
    "OEReadMolecule(istream, mol_from_file)\n",
    "oechem.OEAddExplicitHydrogens(OEMol())\n",
    "oechem.OEDetermineConnectivity(OEMol())\n",
    "oechem.OEPerceiveBondOrders(OEMol())\n",
    "ostream = oemolostream('3s2o-reference-ligand.mol2')\n",
    "OEWriteMolecule(ostream, mol_from_file)"
   ]
  },
  {
   "cell_type": "code",
   "execution_count": 2,
   "metadata": {},
   "outputs": [
    {
     "name": "stdout",
     "output_type": "stream",
     "text": [
      "0\n"
     ]
    },
    {
     "data": {
      "text/plain": [
       "0"
      ]
     },
     "execution_count": 2,
     "metadata": {},
     "output_type": "execute_result"
    }
   ],
   "source": [
    "#Prepare the d3r Bace1 molecules from the SMILES.\n",
    "from openeye.oeiupac import *\n",
    "from openeye.oechem import *\n",
    "from openeye.oeomega import *\n",
    "from openeye.oeshape import *\n",
    "from openeye.oedepict import *\n",
    "\n",
    "mol_from_smiles = OEMol()\n",
    "\n",
    "smiles = \"\"\n",
    "OEParseSmiles(mol_from_smiles, smiles)\n",
    "ostream = oemolostream('.mol2')\n",
    "\n",
    "oechem.OEAddExplicitHydrogens(mol_from_smiles)\n",
    "omega = OEOmega()\n",
    "omega.SetMaxConfs(1)\n",
    "omega.SetStrictStereo(False)\n",
    "omega.SetStrictAtomTypes(False)\n",
    "omega(mol_from_smiles)\n",
    "oechem.OEDetermineConnectivity(mol_from_smiles)\n",
    "print(mol_from_smiles.NumAtoms())\n",
    "OEWriteMolecule(ostream, mol_from_smiles)"
   ]
  },
  {
   "cell_type": "code",
   "execution_count": null,
   "metadata": {
    "collapsed": true
   },
   "outputs": [],
   "source": []
  }
 ],
 "metadata": {
  "kernelspec": {
   "display_name": "Python 2",
   "language": "python",
   "name": "python2"
  },
  "language_info": {
   "codemirror_mode": {
    "name": "ipython",
    "version": 2
   },
   "file_extension": ".py",
   "mimetype": "text/x-python",
   "name": "python",
   "nbconvert_exporter": "python",
   "pygments_lexer": "ipython2",
   "version": "2.7.14"
  }
 },
 "nbformat": 4,
 "nbformat_minor": 2
}
